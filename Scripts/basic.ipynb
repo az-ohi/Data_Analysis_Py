{
 "cells": [
  {
   "cell_type": "code",
   "execution_count": 3,
   "id": "8ad91666-2858-4a0b-a060-fdf9efc9f6a1",
   "metadata": {},
   "outputs": [],
   "source": [
    "import math"
   ]
  },
  {
   "cell_type": "code",
   "execution_count": 4,
   "id": "91c40d16-4aa2-429d-baa7-f8925367db1b",
   "metadata": {},
   "outputs": [
    {
     "data": {
      "text/plain": [
       "['__doc__',\n",
       " '__loader__',\n",
       " '__name__',\n",
       " '__package__',\n",
       " '__spec__',\n",
       " 'acos',\n",
       " 'acosh',\n",
       " 'asin',\n",
       " 'asinh',\n",
       " 'atan',\n",
       " 'atan2',\n",
       " 'atanh',\n",
       " 'cbrt',\n",
       " 'ceil',\n",
       " 'comb',\n",
       " 'copysign',\n",
       " 'cos',\n",
       " 'cosh',\n",
       " 'degrees',\n",
       " 'dist',\n",
       " 'e',\n",
       " 'erf',\n",
       " 'erfc',\n",
       " 'exp',\n",
       " 'exp2',\n",
       " 'expm1',\n",
       " 'fabs',\n",
       " 'factorial',\n",
       " 'floor',\n",
       " 'fmod',\n",
       " 'frexp',\n",
       " 'fsum',\n",
       " 'gamma',\n",
       " 'gcd',\n",
       " 'hypot',\n",
       " 'inf',\n",
       " 'isclose',\n",
       " 'isfinite',\n",
       " 'isinf',\n",
       " 'isnan',\n",
       " 'isqrt',\n",
       " 'lcm',\n",
       " 'ldexp',\n",
       " 'lgamma',\n",
       " 'log',\n",
       " 'log10',\n",
       " 'log1p',\n",
       " 'log2',\n",
       " 'modf',\n",
       " 'nan',\n",
       " 'nextafter',\n",
       " 'perm',\n",
       " 'pi',\n",
       " 'pow',\n",
       " 'prod',\n",
       " 'radians',\n",
       " 'remainder',\n",
       " 'sin',\n",
       " 'sinh',\n",
       " 'sqrt',\n",
       " 'sumprod',\n",
       " 'tan',\n",
       " 'tanh',\n",
       " 'tau',\n",
       " 'trunc',\n",
       " 'ulp']"
      ]
     },
     "execution_count": 4,
     "metadata": {},
     "output_type": "execute_result"
    }
   ],
   "source": [
    "dir(math)"
   ]
  },
  {
   "cell_type": "code",
   "execution_count": 1,
   "id": "a97b128a-aa4c-4a7f-aa09-a12edd8af655",
   "metadata": {},
   "outputs": [
    {
     "data": {
      "text/plain": [
       "int"
      ]
     },
     "execution_count": 1,
     "metadata": {},
     "output_type": "execute_result"
    }
   ],
   "source": [
    "type(200)"
   ]
  },
  {
   "cell_type": "code",
   "execution_count": 2,
   "id": "112c93be-0d7d-4dbb-9d99-567d607283ba",
   "metadata": {},
   "outputs": [
    {
     "data": {
      "text/plain": [
       "float"
      ]
     },
     "execution_count": 2,
     "metadata": {},
     "output_type": "execute_result"
    }
   ],
   "source": [
    "type(40.75)"
   ]
  },
  {
   "cell_type": "code",
   "execution_count": 4,
   "id": "01e14e4b-1292-4306-956d-b2e43a3b7659",
   "metadata": {},
   "outputs": [],
   "source": [
    "my_name = \"OHI\""
   ]
  },
  {
   "cell_type": "code",
   "execution_count": 5,
   "id": "273e43cf-5322-46f2-9e99-433a85708897",
   "metadata": {},
   "outputs": [
    {
     "data": {
      "text/plain": [
       "'OHI'"
      ]
     },
     "execution_count": 5,
     "metadata": {},
     "output_type": "execute_result"
    }
   ],
   "source": [
    "my_name"
   ]
  },
  {
   "cell_type": "code",
   "execution_count": 6,
   "id": "6d131a9d-fa4c-4458-b0a1-d3b65b2517cb",
   "metadata": {},
   "outputs": [
    {
     "data": {
      "text/plain": [
       "str"
      ]
     },
     "execution_count": 6,
     "metadata": {},
     "output_type": "execute_result"
    }
   ],
   "source": [
    "type(my_name)"
   ]
  },
  {
   "cell_type": "code",
   "execution_count": 7,
   "id": "14a9b509-9d20-4ca2-8e6d-35d790d0bcc4",
   "metadata": {},
   "outputs": [
    {
     "data": {
      "text/plain": [
       "True"
      ]
     },
     "execution_count": 7,
     "metadata": {},
     "output_type": "execute_result"
    }
   ],
   "source": [
    "isinstance(29,int)"
   ]
  },
  {
   "cell_type": "code",
   "execution_count": 8,
   "id": "a2ff0aa9-c637-4334-b2a9-9d1b0568e100",
   "metadata": {},
   "outputs": [
    {
     "ename": "TypeError",
     "evalue": "isinstance() arg 2 must be a type, a tuple of types, or a union",
     "output_type": "error",
     "traceback": [
      "\u001b[1;31m---------------------------------------------------------------------------\u001b[0m",
      "\u001b[1;31mTypeError\u001b[0m                                 Traceback (most recent call last)",
      "Cell \u001b[1;32mIn[8], line 1\u001b[0m\n\u001b[1;32m----> 1\u001b[0m \u001b[38;5;28;43misinstance\u001b[39;49m\u001b[43m(\u001b[49m\u001b[38;5;124;43m\"\u001b[39;49m\u001b[38;5;124;43mOHI\u001b[39;49m\u001b[38;5;124;43m\"\u001b[39;49m\u001b[43m,\u001b[49m\u001b[43mmy_name\u001b[49m\u001b[43m)\u001b[49m\n",
      "\u001b[1;31mTypeError\u001b[0m: isinstance() arg 2 must be a type, a tuple of types, or a union"
     ]
    }
   ],
   "source": [
    "isinstance(\"OHI\",my_name)"
   ]
  },
  {
   "cell_type": "code",
   "execution_count": 9,
   "id": "4715de0f-2a71-41a2-9276-7e00fdd2d533",
   "metadata": {},
   "outputs": [
    {
     "data": {
      "text/plain": [
       "True"
      ]
     },
     "execution_count": 9,
     "metadata": {},
     "output_type": "execute_result"
    }
   ],
   "source": [
    "isinstance(\"OHI\",str)"
   ]
  },
  {
   "cell_type": "code",
   "execution_count": 10,
   "id": "833ca834-0c57-4a16-a2eb-ed10745c9fe9",
   "metadata": {},
   "outputs": [
    {
     "data": {
      "text/plain": [
       "22.0"
      ]
     },
     "execution_count": 10,
     "metadata": {},
     "output_type": "execute_result"
    }
   ],
   "source": [
    "float(22)"
   ]
  },
  {
   "cell_type": "code",
   "execution_count": 11,
   "id": "5bbd3853-5cb1-4939-8f47-77d7eae617c0",
   "metadata": {},
   "outputs": [
    {
     "data": {
      "text/plain": [
       "22"
      ]
     },
     "execution_count": 11,
     "metadata": {},
     "output_type": "execute_result"
    }
   ],
   "source": [
    "int(22.67)"
   ]
  },
  {
   "cell_type": "code",
   "execution_count": 1,
   "id": "8dac3c8a-9c92-49ac-b697-02c2d1cbe8a4",
   "metadata": {},
   "outputs": [
    {
     "ename": "NameError",
     "evalue": "name 'my_name' is not defined",
     "output_type": "error",
     "traceback": [
      "\u001b[1;31m---------------------------------------------------------------------------\u001b[0m",
      "\u001b[1;31mNameError\u001b[0m                                 Traceback (most recent call last)",
      "Cell \u001b[1;32mIn[1], line 1\u001b[0m\n\u001b[1;32m----> 1\u001b[0m \u001b[43mmy_name\u001b[49m\n",
      "\u001b[1;31mNameError\u001b[0m: name 'my_name' is not defined"
     ]
    }
   ],
   "source": [
    "my_name"
   ]
  },
  {
   "cell_type": "code",
   "execution_count": 2,
   "id": "30d40c4e-8f79-4e88-b55f-603ee75241be",
   "metadata": {},
   "outputs": [],
   "source": [
    "my_name = \"OHI\""
   ]
  },
  {
   "cell_type": "markdown",
   "id": "32ae2479-4d38-461e-bb37-36c8c3dda87c",
   "metadata": {},
   "source": [
    "my_name "
   ]
  },
  {
   "cell_type": "code",
   "execution_count": 3,
   "id": "f3913d10-abec-4155-8657-225c56260232",
   "metadata": {},
   "outputs": [
    {
     "data": {
      "text/plain": [
       "'OHI'"
      ]
     },
     "execution_count": 3,
     "metadata": {},
     "output_type": "execute_result"
    }
   ],
   "source": [
    "my_name"
   ]
  },
  {
   "cell_type": "code",
   "execution_count": 4,
   "id": "9b80f62e-b7bf-42f9-8a65-b35a07de98c6",
   "metadata": {},
   "outputs": [
    {
     "data": {
      "text/plain": [
       "True"
      ]
     },
     "execution_count": 4,
     "metadata": {},
     "output_type": "execute_result"
    }
   ],
   "source": [
    "isinstance(my_name,str)"
   ]
  },
  {
   "cell_type": "code",
   "execution_count": 6,
   "id": "106779e6-4eaa-4af5-9f51-0d0de0686119",
   "metadata": {},
   "outputs": [],
   "source": [
    "lis1 = [1,2,3,\"OHI\"]"
   ]
  },
  {
   "cell_type": "code",
   "execution_count": 7,
   "id": "dd8cdab5-46ee-443c-9414-a01cf827f16b",
   "metadata": {},
   "outputs": [
    {
     "ename": "NameError",
     "evalue": "name 'list1' is not defined",
     "output_type": "error",
     "traceback": [
      "\u001b[1;31m---------------------------------------------------------------------------\u001b[0m",
      "\u001b[1;31mNameError\u001b[0m                                 Traceback (most recent call last)",
      "Cell \u001b[1;32mIn[7], line 1\u001b[0m\n\u001b[1;32m----> 1\u001b[0m \u001b[43mlist1\u001b[49m[\u001b[38;5;241m2\u001b[39m]\n",
      "\u001b[1;31mNameError\u001b[0m: name 'list1' is not defined"
     ]
    }
   ],
   "source": [
    "list1[2]"
   ]
  },
  {
   "cell_type": "code",
   "execution_count": 8,
   "id": "fd4b492c-95a9-427b-a9c1-c3662db27acd",
   "metadata": {},
   "outputs": [
    {
     "data": {
      "text/plain": [
       "3"
      ]
     },
     "execution_count": 8,
     "metadata": {},
     "output_type": "execute_result"
    }
   ],
   "source": [
    "lis1[2]"
   ]
  },
  {
   "cell_type": "code",
   "execution_count": 10,
   "id": "30670a48-cd5f-4a22-aa25-843aafa0eb43",
   "metadata": {},
   "outputs": [
    {
     "data": {
      "text/plain": [
       "4"
      ]
     },
     "execution_count": 10,
     "metadata": {},
     "output_type": "execute_result"
    }
   ],
   "source": [
    "len(lis1)"
   ]
  },
  {
   "cell_type": "code",
   "execution_count": 11,
   "id": "1f70ddbe-ef6b-4527-9c37-a02e3bc5ddda",
   "metadata": {},
   "outputs": [],
   "source": [
    "lis1.append(\"OLI\")"
   ]
  },
  {
   "cell_type": "code",
   "execution_count": 12,
   "id": "d5d5278c-e631-42ad-be76-62f777817d4b",
   "metadata": {},
   "outputs": [
    {
     "data": {
      "text/plain": [
       "[1, 2, 3, 'OHI', 'OLI']"
      ]
     },
     "execution_count": 12,
     "metadata": {},
     "output_type": "execute_result"
    }
   ],
   "source": [
    "lis1"
   ]
  },
  {
   "cell_type": "code",
   "execution_count": 13,
   "id": "42b06a0c-7e25-4d0c-a633-552c0fac97d5",
   "metadata": {},
   "outputs": [],
   "source": [
    "lis1.extend([5,6,7,\"ABBU\",\"AMMU\"])"
   ]
  },
  {
   "cell_type": "code",
   "execution_count": 14,
   "id": "5376c2ff-9118-4307-86ed-746923771cca",
   "metadata": {},
   "outputs": [
    {
     "data": {
      "text/plain": [
       "[1, 2, 3, 'OHI', 'OLI', 5, 6, 7, 'ABBU', 'AMMU']"
      ]
     },
     "execution_count": 14,
     "metadata": {},
     "output_type": "execute_result"
    }
   ],
   "source": [
    "lis1"
   ]
  },
  {
   "cell_type": "code",
   "execution_count": 15,
   "id": "2fd01aed-8deb-4170-bb22-02c3265505f2",
   "metadata": {},
   "outputs": [
    {
     "data": {
      "text/plain": [
       "10"
      ]
     },
     "execution_count": 15,
     "metadata": {},
     "output_type": "execute_result"
    }
   ],
   "source": [
    "len(lis1)"
   ]
  },
  {
   "cell_type": "code",
   "execution_count": 17,
   "id": "914702fa-8034-49bc-96c5-c35b0b10a4b5",
   "metadata": {},
   "outputs": [],
   "source": [
    "#append only take one argument"
   ]
  },
  {
   "cell_type": "code",
   "execution_count": 18,
   "id": "dc378c6d-b9e0-4a64-be17-b3d0bbd20f8a",
   "metadata": {},
   "outputs": [],
   "source": [
    "#extend use for multiple argument input or list insert"
   ]
  },
  {
   "cell_type": "code",
   "execution_count": 24,
   "id": "c5627d04-2751-461a-bc78-7728f864bba1",
   "metadata": {},
   "outputs": [],
   "source": [
    "#for inseritng element in a particular position we use insert (pos,element)"
   ]
  },
  {
   "cell_type": "code",
   "execution_count": null,
   "id": "d4562992-7898-4444-bf80-a6f87fe0274c",
   "metadata": {},
   "outputs": [],
   "source": [
    "#for remove a element we use remove function"
   ]
  },
  {
   "cell_type": "code",
   "execution_count": null,
   "id": "24ef0504-2fb2-4450-96d4-9e83cef5bedc",
   "metadata": {},
   "outputs": [],
   "source": [
    "#for remove an element form a specific location we use pop"
   ]
  },
  {
   "cell_type": "code",
   "execution_count": 22,
   "id": "54cb50df-6a69-4b19-a9b3-5e8f9760b6d8",
   "metadata": {},
   "outputs": [],
   "source": [
    "lis1.insert(3,\"AYUB\")"
   ]
  },
  {
   "cell_type": "code",
   "execution_count": 23,
   "id": "c3b17e2d-bf0d-493a-ba06-3cb98699720b",
   "metadata": {},
   "outputs": [
    {
     "data": {
      "text/plain": [
       "[1, 2, 3, 'AYUB', 'OHI', 'AYUB', 'OLI', 5, 6, 7, 'ABBU', 'AMMU']"
      ]
     },
     "execution_count": 23,
     "metadata": {},
     "output_type": "execute_result"
    }
   ],
   "source": [
    "lis1"
   ]
  },
  {
   "cell_type": "code",
   "execution_count": 25,
   "id": "1dbc9c94-9689-4db3-a32e-5b032cea45e4",
   "metadata": {},
   "outputs": [],
   "source": [
    "lis1.remove(\"AYUB\")"
   ]
  },
  {
   "cell_type": "code",
   "execution_count": 26,
   "id": "87864683-466f-4717-80d0-9c69d507bcc7",
   "metadata": {},
   "outputs": [
    {
     "data": {
      "text/plain": [
       "[1, 2, 3, 'OHI', 'AYUB', 'OLI', 5, 6, 7, 'ABBU', 'AMMU']"
      ]
     },
     "execution_count": 26,
     "metadata": {},
     "output_type": "execute_result"
    }
   ],
   "source": [
    "lis1"
   ]
  },
  {
   "cell_type": "code",
   "execution_count": 27,
   "id": "b71335d0-0b72-4be7-943e-312c1463075a",
   "metadata": {},
   "outputs": [],
   "source": [
    "lis1.remove(\"AYUB\")\n"
   ]
  },
  {
   "cell_type": "code",
   "execution_count": 28,
   "id": "de43c7f9-1bb9-4728-9c71-6360f7c4bb2a",
   "metadata": {},
   "outputs": [
    {
     "data": {
      "text/plain": [
       "[1, 2, 3, 'OHI', 'OLI', 5, 6, 7, 'ABBU', 'AMMU']"
      ]
     },
     "execution_count": 28,
     "metadata": {},
     "output_type": "execute_result"
    }
   ],
   "source": [
    "lis1"
   ]
  },
  {
   "cell_type": "code",
   "execution_count": 30,
   "id": "e3dc05ad-f773-4ef8-bede-cb3455e7d11c",
   "metadata": {},
   "outputs": [],
   "source": [
    "lis1.insert(3,\"AYUB\")"
   ]
  },
  {
   "cell_type": "code",
   "execution_count": 31,
   "id": "eef09c4c-1fbd-415e-be3c-6a14ed6ad27e",
   "metadata": {},
   "outputs": [],
   "source": [
    "lis1.insert(4,\"ZAWAD\")\n"
   ]
  },
  {
   "cell_type": "code",
   "execution_count": 32,
   "id": "ec96b293-a648-43ee-8df8-9572f8949efc",
   "metadata": {},
   "outputs": [
    {
     "data": {
      "text/plain": [
       "[1, 2, 3, 'AYUB', 'ZAWAD', 'OHI', 'OLI', 5, 6, 7, 'ABBU', 'AMMU']"
      ]
     },
     "execution_count": 32,
     "metadata": {},
     "output_type": "execute_result"
    }
   ],
   "source": [
    "lis1"
   ]
  },
  {
   "cell_type": "code",
   "execution_count": 33,
   "id": "6cdd0ffb-f831-41d7-8f74-a011a114bee2",
   "metadata": {},
   "outputs": [
    {
     "data": {
      "text/plain": [
       "5"
      ]
     },
     "execution_count": 33,
     "metadata": {},
     "output_type": "execute_result"
    }
   ],
   "source": [
    "lis1.pop(7)"
   ]
  },
  {
   "cell_type": "code",
   "execution_count": 34,
   "id": "b90832cf-f956-44f5-aa37-0631403ce016",
   "metadata": {},
   "outputs": [
    {
     "data": {
      "text/plain": [
       "[1, 2, 3, 'AYUB', 'ZAWAD', 'OHI', 'OLI', 6, 7, 'ABBU', 'AMMU']"
      ]
     },
     "execution_count": 34,
     "metadata": {},
     "output_type": "execute_result"
    }
   ],
   "source": [
    "lis1"
   ]
  },
  {
   "cell_type": "code",
   "execution_count": 35,
   "id": "e4cf6d1e-a359-4a5e-bcef-636bd74f363b",
   "metadata": {},
   "outputs": [],
   "source": [
    "#we can also do same thing with del "
   ]
  },
  {
   "cell_type": "code",
   "execution_count": 37,
   "id": "879d1dbd-e7a3-4900-9b7a-7a8d770c7908",
   "metadata": {},
   "outputs": [],
   "source": [
    "del lis1[0]"
   ]
  },
  {
   "cell_type": "code",
   "execution_count": 38,
   "id": "fcb43cfe-923c-48a2-899f-51f14a8f985c",
   "metadata": {},
   "outputs": [
    {
     "data": {
      "text/plain": [
       "[2, 3, 'AYUB', 'ZAWAD', 'OHI', 'OLI', 6, 7, 'ABBU', 'AMMU']"
      ]
     },
     "execution_count": 38,
     "metadata": {},
     "output_type": "execute_result"
    }
   ],
   "source": [
    "lis1"
   ]
  },
  {
   "cell_type": "code",
   "execution_count": 39,
   "id": "1ec94648-9227-479c-b44e-c15c2331886d",
   "metadata": {},
   "outputs": [],
   "source": [
    "#for replacing one elemnet with another"
   ]
  },
  {
   "cell_type": "code",
   "execution_count": 40,
   "id": "d029915c-4868-490e-9a6f-3ff2587c3946",
   "metadata": {},
   "outputs": [],
   "source": [
    "lis1[6] = 9"
   ]
  },
  {
   "cell_type": "code",
   "execution_count": 41,
   "id": "b88febdf-9a0f-4422-a248-ec4e405f5271",
   "metadata": {},
   "outputs": [
    {
     "data": {
      "text/plain": [
       "[2, 3, 'AYUB', 'ZAWAD', 'OHI', 'OLI', 9, 7, 'ABBU', 'AMMU']"
      ]
     },
     "execution_count": 41,
     "metadata": {},
     "output_type": "execute_result"
    }
   ],
   "source": [
    "lis1"
   ]
  },
  {
   "cell_type": "code",
   "execution_count": 42,
   "id": "36fd0caa-e61f-40d0-a8ae-611b0e3a4c50",
   "metadata": {},
   "outputs": [],
   "source": [
    "list1=lis1+[\"AZAM\",\"JUBAYER\"]"
   ]
  },
  {
   "cell_type": "code",
   "execution_count": 43,
   "id": "b54ba843-d0f9-4b02-980e-983fe9140235",
   "metadata": {},
   "outputs": [
    {
     "data": {
      "text/plain": [
       "[2, 3, 'AYUB', 'ZAWAD', 'OHI', 'OLI', 9, 7, 'ABBU', 'AMMU', 'AZAM', 'JUBAYER']"
      ]
     },
     "execution_count": 43,
     "metadata": {},
     "output_type": "execute_result"
    }
   ],
   "source": [
    "list1"
   ]
  },
  {
   "cell_type": "code",
   "execution_count": 44,
   "id": "21f8cd95-0de1-4f9b-824c-08930d9c02a8",
   "metadata": {},
   "outputs": [
    {
     "data": {
      "text/plain": [
       "1"
      ]
     },
     "execution_count": 44,
     "metadata": {},
     "output_type": "execute_result"
    }
   ],
   "source": [
    "list1.count(2)"
   ]
  },
  {
   "cell_type": "code",
   "execution_count": 45,
   "id": "3223073c-fb70-4962-8435-0b6acbdca31a",
   "metadata": {},
   "outputs": [],
   "source": [
    "list1.append(2)"
   ]
  },
  {
   "cell_type": "code",
   "execution_count": 46,
   "id": "ff188718-af8a-4941-9859-66c72039cd14",
   "metadata": {},
   "outputs": [
    {
     "data": {
      "text/plain": [
       "2"
      ]
     },
     "execution_count": 46,
     "metadata": {},
     "output_type": "execute_result"
    }
   ],
   "source": [
    "list1.count(2)"
   ]
  },
  {
   "cell_type": "code",
   "execution_count": 47,
   "id": "107cfc08-ebaa-42d1-b207-ab941eecf9e5",
   "metadata": {},
   "outputs": [],
   "source": [
    "#for checking index"
   ]
  },
  {
   "cell_type": "code",
   "execution_count": 48,
   "id": "bb20f158-940b-4eeb-817c-75eb150206f1",
   "metadata": {},
   "outputs": [
    {
     "data": {
      "text/plain": [
       "5"
      ]
     },
     "execution_count": 48,
     "metadata": {},
     "output_type": "execute_result"
    }
   ],
   "source": [
    "list1.index(\"OLI\")"
   ]
  },
  {
   "cell_type": "code",
   "execution_count": 2,
   "id": "b1d985c3-dccc-40ba-a112-499f0e10d3ac",
   "metadata": {},
   "outputs": [],
   "source": [
    "family=[\"OHI\",\"OLI\",\"ABBU\",\"AMMU\"]"
   ]
  },
  {
   "cell_type": "code",
   "execution_count": 51,
   "id": "4211105f-9fdd-4a17-94fe-c1773bfcffcb",
   "metadata": {},
   "outputs": [
    {
     "data": {
      "text/plain": [
       "'OLI'"
      ]
     },
     "execution_count": 51,
     "metadata": {},
     "output_type": "execute_result"
    }
   ],
   "source": [
    "family[1]"
   ]
  },
  {
   "cell_type": "code",
   "execution_count": 52,
   "id": "4f5ee5be-d6d2-48cb-95ab-e4b6354163a4",
   "metadata": {},
   "outputs": [
    {
     "data": {
      "text/plain": [
       "['OHI', 'OLI']"
      ]
     },
     "execution_count": 52,
     "metadata": {},
     "output_type": "execute_result"
    }
   ],
   "source": [
    "family[0:2]"
   ]
  },
  {
   "cell_type": "code",
   "execution_count": 53,
   "id": "efd31619-a484-4af9-bc1f-ba30d765b9a7",
   "metadata": {},
   "outputs": [],
   "source": [
    "#here first number is inclusive and the limit is exclusive"
   ]
  },
  {
   "cell_type": "code",
   "execution_count": 55,
   "id": "5508f32c-0b6a-4095-b792-cf58c455ea3e",
   "metadata": {},
   "outputs": [],
   "source": [
    "#for chcecking the last valiue if the list is length is unknown using index number as -1"
   ]
  },
  {
   "cell_type": "code",
   "execution_count": 56,
   "id": "c17a61af-cf9b-4d5f-a168-427e3a59922d",
   "metadata": {},
   "outputs": [
    {
     "data": {
      "text/plain": [
       "'AMMU'"
      ]
     },
     "execution_count": 56,
     "metadata": {},
     "output_type": "execute_result"
    }
   ],
   "source": [
    "family[-1]"
   ]
  },
  {
   "cell_type": "code",
   "execution_count": 57,
   "id": "521c10d0-6c67-43b6-ac24-8f74b8a7ba49",
   "metadata": {},
   "outputs": [],
   "source": [
    "#for jumping"
   ]
  },
  {
   "cell_type": "code",
   "execution_count": 59,
   "id": "8db264dc-7749-4c34-93f5-14862ff83c56",
   "metadata": {},
   "outputs": [
    {
     "data": {
      "text/plain": [
       "['OHI', 'ABBU']"
      ]
     },
     "execution_count": 59,
     "metadata": {},
     "output_type": "execute_result"
    }
   ],
   "source": [
    "family[0:3:2] #last one is for jumping"
   ]
  },
  {
   "cell_type": "code",
   "execution_count": 60,
   "id": "4d5500bf-133d-48cd-a5e4-8053fcf07bb7",
   "metadata": {},
   "outputs": [],
   "source": [
    "#for reversing the list"
   ]
  },
  {
   "cell_type": "code",
   "execution_count": 63,
   "id": "a2bb0b80-5ab0-494e-a591-8a92dc5ffec4",
   "metadata": {},
   "outputs": [],
   "source": [
    "family = family[::-1]"
   ]
  },
  {
   "cell_type": "code",
   "execution_count": 1,
   "id": "c993c4b0-2732-4fd2-a780-1f3ea457c2d6",
   "metadata": {},
   "outputs": [
    {
     "ename": "NameError",
     "evalue": "name 'family' is not defined",
     "output_type": "error",
     "traceback": [
      "\u001b[1;31m---------------------------------------------------------------------------\u001b[0m",
      "\u001b[1;31mNameError\u001b[0m                                 Traceback (most recent call last)",
      "Cell \u001b[1;32mIn[1], line 1\u001b[0m\n\u001b[1;32m----> 1\u001b[0m \u001b[43mfamily\u001b[49m\n",
      "\u001b[1;31mNameError\u001b[0m: name 'family' is not defined"
     ]
    }
   ],
   "source": [
    "family"
   ]
  },
  {
   "cell_type": "code",
   "execution_count": 3,
   "id": "9880935e-a15f-45aa-9b7c-922f271968a2",
   "metadata": {},
   "outputs": [
    {
     "data": {
      "text/plain": [
       "['OHI', 'OLI', 'ABBU', 'AMMU']"
      ]
     },
     "execution_count": 3,
     "metadata": {},
     "output_type": "execute_result"
    }
   ],
   "source": [
    "family"
   ]
  },
  {
   "cell_type": "code",
   "execution_count": 4,
   "id": "a6393cd5-0967-43d1-ab51-2288b14dd73d",
   "metadata": {},
   "outputs": [
    {
     "data": {
      "text/plain": [
       "['AMMU', 'ABBU', 'OLI', 'OHI']"
      ]
     },
     "execution_count": 4,
     "metadata": {},
     "output_type": "execute_result"
    }
   ],
   "source": [
    "list(reversed(family))"
   ]
  },
  {
   "cell_type": "code",
   "execution_count": 5,
   "id": "9c1a835e-c28b-415e-a4a6-15dfd1916c1b",
   "metadata": {},
   "outputs": [],
   "source": [
    "#another way for reversing the list"
   ]
  },
  {
   "cell_type": "code",
   "execution_count": null,
   "id": "4819506d-a6e9-463f-a45f-6a2e5cd39edc",
   "metadata": {},
   "outputs": [],
   "source": [
    "#sorting"
   ]
  },
  {
   "cell_type": "code",
   "execution_count": 6,
   "id": "d9506858-91c9-4221-8852-b333c5ee9fc1",
   "metadata": {},
   "outputs": [],
   "source": [
    "letter = [\"A\",\"Z\",\"O\",\"B\",\"Y\",\"Q\",\"D\"]"
   ]
  },
  {
   "cell_type": "code",
   "execution_count": 7,
   "id": "779375a2-84df-4d6a-937b-0dd799af5795",
   "metadata": {},
   "outputs": [],
   "source": [
    "letter.sort()"
   ]
  },
  {
   "cell_type": "code",
   "execution_count": 8,
   "id": "44e842b3-0827-4c02-93db-d6d00f91f8af",
   "metadata": {},
   "outputs": [
    {
     "data": {
      "text/plain": [
       "['A', 'B', 'D', 'O', 'Q', 'Y', 'Z']"
      ]
     },
     "execution_count": 8,
     "metadata": {},
     "output_type": "execute_result"
    }
   ],
   "source": [
    "letter"
   ]
  },
  {
   "cell_type": "code",
   "execution_count": 9,
   "id": "87612254-e96a-4ef8-a9c6-31d3f4c5b6cf",
   "metadata": {},
   "outputs": [],
   "source": [
    "#for reverse sorting"
   ]
  },
  {
   "cell_type": "code",
   "execution_count": 10,
   "id": "475affea-7f22-4993-bec0-801ee8608225",
   "metadata": {},
   "outputs": [],
   "source": [
    "letter.sort(reverse=True)"
   ]
  },
  {
   "cell_type": "code",
   "execution_count": 11,
   "id": "6908795f-026c-4c55-9e93-7e1ca0170d51",
   "metadata": {},
   "outputs": [
    {
     "data": {
      "text/plain": [
       "['Z', 'Y', 'Q', 'O', 'D', 'B', 'A']"
      ]
     },
     "execution_count": 11,
     "metadata": {},
     "output_type": "execute_result"
    }
   ],
   "source": [
    "letter"
   ]
  },
  {
   "cell_type": "code",
   "execution_count": null,
   "id": "d468a332-3a00-445b-8f40-0391dc9d77a3",
   "metadata": {},
   "outputs": [],
   "source": [
    "#sorting based on length"
   ]
  },
  {
   "cell_type": "code",
   "execution_count": 12,
   "id": "a2afec04-b865-446d-8c24-b71cf7ebc396",
   "metadata": {},
   "outputs": [
    {
     "data": {
      "text/plain": [
       "['OHI', 'OLI', 'ABBU', 'AMMU']"
      ]
     },
     "execution_count": 12,
     "metadata": {},
     "output_type": "execute_result"
    }
   ],
   "source": [
    "family"
   ]
  },
  {
   "cell_type": "code",
   "execution_count": 13,
   "id": "4da4c664-89c7-43fb-95d1-cc4d0272bcea",
   "metadata": {},
   "outputs": [],
   "source": [
    "family = list(reversed(family))"
   ]
  },
  {
   "cell_type": "code",
   "execution_count": 14,
   "id": "606e4f9e-a5e1-4796-8991-85c75f60720a",
   "metadata": {},
   "outputs": [
    {
     "data": {
      "text/plain": [
       "['AMMU', 'ABBU', 'OLI', 'OHI']"
      ]
     },
     "execution_count": 14,
     "metadata": {},
     "output_type": "execute_result"
    }
   ],
   "source": [
    "family"
   ]
  },
  {
   "cell_type": "code",
   "execution_count": 15,
   "id": "e97c86cc-2bbc-4a2e-96fe-06b5eb009c90",
   "metadata": {},
   "outputs": [],
   "source": [
    "family.sort(key = len)"
   ]
  },
  {
   "cell_type": "code",
   "execution_count": 16,
   "id": "37a876c0-d3c1-426b-9785-df0b016e9e9d",
   "metadata": {},
   "outputs": [
    {
     "data": {
      "text/plain": [
       "['OLI', 'OHI', 'AMMU', 'ABBU']"
      ]
     },
     "execution_count": 16,
     "metadata": {},
     "output_type": "execute_result"
    }
   ],
   "source": [
    "family"
   ]
  },
  {
   "cell_type": "code",
   "execution_count": 17,
   "id": "9998e744-142f-4184-89d7-3315b880327c",
   "metadata": {},
   "outputs": [
    {
     "data": {
      "text/plain": [
       "['OLI', 'OHI', 'AMMU', 'ABBU']"
      ]
     },
     "execution_count": 17,
     "metadata": {},
     "output_type": "execute_result"
    }
   ],
   "source": [
    "sorted(family, key = len)"
   ]
  },
  {
   "cell_type": "code",
   "execution_count": null,
   "id": "39e5a0e6-1774-4aeb-aed7-bdc37a6b9aac",
   "metadata": {},
   "outputs": [],
   "source": []
  },
  {
   "cell_type": "code",
   "execution_count": null,
   "id": "a2fa9154-3ac1-4f97-84f9-3a83a2bb497a",
   "metadata": {},
   "outputs": [],
   "source": []
  },
  {
   "cell_type": "code",
   "execution_count": null,
   "id": "256df8c4-1d33-4f6d-8b8e-19706c3a06e2",
   "metadata": {},
   "outputs": [],
   "source": []
  },
  {
   "cell_type": "code",
   "execution_count": null,
   "id": "52d28c9a-0dda-46f5-a5d2-c9818daf9f5b",
   "metadata": {},
   "outputs": [],
   "source": []
  },
  {
   "cell_type": "code",
   "execution_count": null,
   "id": "a17eeeae-7078-4bbd-a93f-5c77f8e84ffe",
   "metadata": {},
   "outputs": [],
   "source": []
  },
  {
   "cell_type": "code",
   "execution_count": null,
   "id": "a6bc28ee-f63f-49b8-aa7e-ce70ee038906",
   "metadata": {},
   "outputs": [],
   "source": []
  },
  {
   "cell_type": "code",
   "execution_count": null,
   "id": "18c8d65f-0cae-402c-a42e-b2db784fffce",
   "metadata": {},
   "outputs": [],
   "source": []
  },
  {
   "cell_type": "code",
   "execution_count": null,
   "id": "c5b39409-9831-4711-b197-198f28851b08",
   "metadata": {},
   "outputs": [],
   "source": []
  },
  {
   "cell_type": "code",
   "execution_count": null,
   "id": "f3f9c6f4-50fb-4fc0-bbd6-fa3fa7d3a849",
   "metadata": {},
   "outputs": [],
   "source": []
  },
  {
   "cell_type": "code",
   "execution_count": null,
   "id": "5d5eb711-212d-4917-a97f-c8bd556fc3c7",
   "metadata": {},
   "outputs": [],
   "source": []
  },
  {
   "cell_type": "code",
   "execution_count": null,
   "id": "e4507884-3bf7-4b41-aa7f-aaa6524d79b9",
   "metadata": {},
   "outputs": [],
   "source": []
  },
  {
   "cell_type": "code",
   "execution_count": null,
   "id": "cce702a6-9cc2-4c0f-8c2b-8b3158a9b227",
   "metadata": {},
   "outputs": [],
   "source": []
  },
  {
   "cell_type": "code",
   "execution_count": null,
   "id": "8a6c2e86-960b-4b79-bd27-1b1f729ea752",
   "metadata": {},
   "outputs": [],
   "source": []
  },
  {
   "cell_type": "code",
   "execution_count": null,
   "id": "2ccc4091-1ffe-4f55-a1d1-e5d1e1f59d7b",
   "metadata": {},
   "outputs": [],
   "source": []
  },
  {
   "cell_type": "code",
   "execution_count": null,
   "id": "a2a1817e-93a4-4182-b139-177e091cceb8",
   "metadata": {},
   "outputs": [],
   "source": []
  },
  {
   "cell_type": "code",
   "execution_count": null,
   "id": "10a7d677-4098-4af1-b034-daa8e1101053",
   "metadata": {},
   "outputs": [],
   "source": []
  },
  {
   "cell_type": "code",
   "execution_count": null,
   "id": "072a7c17-60a2-4899-934e-747f6d60fef1",
   "metadata": {},
   "outputs": [],
   "source": []
  },
  {
   "cell_type": "code",
   "execution_count": null,
   "id": "53b60496-7367-4d02-ab5d-d89c9d20a243",
   "metadata": {},
   "outputs": [],
   "source": []
  },
  {
   "cell_type": "code",
   "execution_count": null,
   "id": "e6dba6eb-cf48-4fca-a73a-31f9b9a3df76",
   "metadata": {},
   "outputs": [],
   "source": []
  },
  {
   "cell_type": "code",
   "execution_count": null,
   "id": "471cc892-4cdc-4cd8-b294-b027decf60c1",
   "metadata": {},
   "outputs": [],
   "source": []
  },
  {
   "cell_type": "code",
   "execution_count": null,
   "id": "5bb7fe10-c45b-4a85-a29f-38873ba1921d",
   "metadata": {},
   "outputs": [],
   "source": []
  },
  {
   "cell_type": "code",
   "execution_count": null,
   "id": "c95d49a4-d2a5-4087-91f4-a827804755dd",
   "metadata": {},
   "outputs": [],
   "source": []
  },
  {
   "cell_type": "code",
   "execution_count": null,
   "id": "63398cfe-afe2-404a-b27d-1a5d69672dba",
   "metadata": {},
   "outputs": [],
   "source": []
  },
  {
   "cell_type": "code",
   "execution_count": null,
   "id": "e269d971-5706-45d4-9c69-58e235795e9b",
   "metadata": {},
   "outputs": [],
   "source": []
  },
  {
   "cell_type": "code",
   "execution_count": null,
   "id": "2716630c-5afa-4a96-b6c1-2f6e64e73482",
   "metadata": {},
   "outputs": [],
   "source": []
  }
 ],
 "metadata": {
  "kernelspec": {
   "display_name": "Python 3 (ipykernel)",
   "language": "python",
   "name": "python3"
  },
  "language_info": {
   "codemirror_mode": {
    "name": "ipython",
    "version": 3
   },
   "file_extension": ".py",
   "mimetype": "text/x-python",
   "name": "python",
   "nbconvert_exporter": "python",
   "pygments_lexer": "ipython3",
   "version": "3.12.4"
  }
 },
 "nbformat": 4,
 "nbformat_minor": 5
}
