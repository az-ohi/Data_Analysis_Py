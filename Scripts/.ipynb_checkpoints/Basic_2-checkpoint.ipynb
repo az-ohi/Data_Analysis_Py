{
 "cells": [
  {
   "cell_type": "code",
   "execution_count": 5,
   "id": "b9abdc4f-b2a0-4975-b6fe-f59b5e2ed447",
   "metadata": {},
   "outputs": [],
   "source": [
    "def calculator(x1,x2, sign = \"+\"):\n",
    "    if sign == \"+\":\n",
    "        return x1+x2\n",
    "    elif sign == \"-\":\n",
    "        return x1-x2\n",
    "    elif sign == \"*\":\n",
    "        return x1*x2\n",
    "    elif sign ==\"/\":\n",
    "        return x1/x2\n",
    "    else:\n",
    "        print(\"Please Enter a valid sign\")"
   ]
  },
  {
   "cell_type": "code",
   "execution_count": 6,
   "id": "74cf9db6-95a9-426f-8234-f9d0458c4083",
   "metadata": {},
   "outputs": [
    {
     "data": {
      "text/plain": [
       "77"
      ]
     },
     "execution_count": 6,
     "metadata": {},
     "output_type": "execute_result"
    }
   ],
   "source": [
    "calculator(23,54)"
   ]
  },
  {
   "cell_type": "code",
   "execution_count": 7,
   "id": "c8465d10-b0b9-4ce8-9b75-6ab717a7afde",
   "metadata": {},
   "outputs": [
    {
     "data": {
      "text/plain": [
       "-31"
      ]
     },
     "execution_count": 7,
     "metadata": {},
     "output_type": "execute_result"
    }
   ],
   "source": [
    "calculator(23,54,\"-\")"
   ]
  },
  {
   "cell_type": "code",
   "execution_count": 11,
   "id": "c24c29e6-7c6f-44f8-87e7-bf5bcf822556",
   "metadata": {},
   "outputs": [
    {
     "data": {
      "text/plain": [
       "1242"
      ]
     },
     "execution_count": 11,
     "metadata": {},
     "output_type": "execute_result"
    }
   ],
   "source": [
    "calculator(23,54,\"*\")"
   ]
  },
  {
   "cell_type": "code",
   "execution_count": 12,
   "id": "bf193f0c-4ba1-4e6d-b2d5-3e8d5639698e",
   "metadata": {},
   "outputs": [
    {
     "data": {
      "text/plain": [
       "0.42592592592592593"
      ]
     },
     "execution_count": 12,
     "metadata": {},
     "output_type": "execute_result"
    }
   ],
   "source": [
    "calculator(23,54,\"/\")"
   ]
  },
  {
   "cell_type": "code",
   "execution_count": 13,
   "id": "0cccbc69-b5f8-4c7d-9cbf-4028d781455f",
   "metadata": {},
   "outputs": [
    {
     "name": "stdout",
     "output_type": "stream",
     "text": [
      "Please Enter a valid sign\n"
     ]
    }
   ],
   "source": [
    "calculator(23,54,\"k\")"
   ]
  },
  {
   "cell_type": "code",
   "execution_count": 14,
   "id": "5aa5b1b6-82b1-407e-a381-039a39e9f232",
   "metadata": {},
   "outputs": [],
   "source": [
    "#lambda function"
   ]
  },
  {
   "cell_type": "code",
   "execution_count": 15,
   "id": "bf7d98d3-c2a2-47f5-9f0c-aa971cfeb775",
   "metadata": {},
   "outputs": [],
   "source": [
    "new_func = lambda x,y:x**y"
   ]
  },
  {
   "cell_type": "code",
   "execution_count": 16,
   "id": "5ef5e9b4-f09a-4830-8547-ea8f91737e74",
   "metadata": {},
   "outputs": [
    {
     "data": {
      "text/plain": [
       "3125"
      ]
     },
     "execution_count": 16,
     "metadata": {},
     "output_type": "execute_result"
    }
   ],
   "source": [
    "new_func(5,5)"
   ]
  },
  {
   "cell_type": "code",
   "execution_count": 17,
   "id": "63780104-3230-4f80-8e85-a48446c4d729",
   "metadata": {},
   "outputs": [],
   "source": [
    "#loop"
   ]
  },
  {
   "cell_type": "code",
   "execution_count": 18,
   "id": "f332fbad-ee2a-4b77-9d40-567077b407c8",
   "metadata": {},
   "outputs": [],
   "source": [
    "num = [\"one\",\"two\",\"three\",\"one1\",\"two2\",\"three3\"]"
   ]
  },
  {
   "cell_type": "code",
   "execution_count": 20,
   "id": "1d9f7798-963b-41b5-993f-2d4808424072",
   "metadata": {
    "scrolled": true
   },
   "outputs": [
    {
     "name": "stdout",
     "output_type": "stream",
     "text": [
      "ONE\n",
      "TWO\n",
      "THREE\n",
      "ONE1\n",
      "TWO2\n",
      "THREE3\n"
     ]
    }
   ],
   "source": [
    "for n in num:\n",
    "    print(n.upper())"
   ]
  },
  {
   "cell_type": "code",
   "execution_count": 21,
   "id": "c796cd69-9b77-49c9-8429-a8ce90ddfc9c",
   "metadata": {},
   "outputs": [
    {
     "name": "stdout",
     "output_type": "stream",
     "text": [
      "(0, 'one')\n",
      "(1, 'two')\n",
      "(2, 'three')\n",
      "(3, 'one1')\n",
      "(4, 'two2')\n",
      "(5, 'three3')\n"
     ]
    }
   ],
   "source": [
    "for a in enumerate(num):\n",
    "    print(a)"
   ]
  },
  {
   "cell_type": "code",
   "execution_count": 24,
   "id": "cfa4bf97-3956-4331-82ab-21dcae3ef655",
   "metadata": {},
   "outputs": [
    {
     "name": "stdout",
     "output_type": "stream",
     "text": [
      "0 one\n",
      "1 two\n",
      "2 three\n",
      "3 one1\n",
      "4 two2\n",
      "5 three3\n"
     ]
    }
   ],
   "source": [
    "for a, n in enumerate(num):\n",
    "    print(a,n)"
   ]
  },
  {
   "cell_type": "code",
   "execution_count": 27,
   "id": "941daa2e-99c5-45f4-ad9e-ae2bee366628",
   "metadata": {},
   "outputs": [],
   "source": [
    "data = [1,2,3,4,5,6]\n",
    "num1 = [x**3 for x in data]"
   ]
  },
  {
   "cell_type": "code",
   "execution_count": 28,
   "id": "cb2af7e3-b5da-4887-b8cc-47aff6d26f68",
   "metadata": {},
   "outputs": [
    {
     "data": {
      "text/plain": [
       "[1, 8, 27, 64, 125, 216]"
      ]
     },
     "execution_count": 28,
     "metadata": {},
     "output_type": "execute_result"
    }
   ],
   "source": [
    "num1"
   ]
  },
  {
   "cell_type": "code",
   "execution_count": 33,
   "id": "995bdec2-94b1-438f-b957-2f1f1b6590c8",
   "metadata": {},
   "outputs": [],
   "source": [
    "num_dict = {a:f\"{a**2}\" for a in data}"
   ]
  },
  {
   "cell_type": "code",
   "execution_count": 34,
   "id": "09efeddf-f058-4d5f-9883-c64b1c5c8ef7",
   "metadata": {},
   "outputs": [
    {
     "data": {
      "text/plain": [
       "{1: '1', 2: '4', 3: '9', 4: '16', 5: '25', 6: '36'}"
      ]
     },
     "execution_count": 34,
     "metadata": {},
     "output_type": "execute_result"
    }
   ],
   "source": [
    "num_dict"
   ]
  },
  {
   "cell_type": "code",
   "execution_count": 35,
   "id": "ff387a74-a647-4384-8743-e110b89328e2",
   "metadata": {},
   "outputs": [],
   "source": [
    "import random"
   ]
  },
  {
   "cell_type": "code",
   "execution_count": 48,
   "id": "3f65dcfe-a00b-4989-b37d-9fd95270b4cc",
   "metadata": {},
   "outputs": [
    {
     "data": {
      "text/plain": [
       "13"
      ]
     },
     "execution_count": 48,
     "metadata": {},
     "output_type": "execute_result"
    }
   ],
   "source": [
    "random.randint(0,100)"
   ]
  },
  {
   "cell_type": "code",
   "execution_count": 49,
   "id": "e7bd9d9e-c165-4c4a-bc2d-4c1c16f46a92",
   "metadata": {},
   "outputs": [
    {
     "data": {
      "text/plain": [
       "0.09819850338879355"
      ]
     },
     "execution_count": 49,
     "metadata": {},
     "output_type": "execute_result"
    }
   ],
   "source": [
    "random.random()"
   ]
  },
  {
   "cell_type": "code",
   "execution_count": 53,
   "id": "e1b9ea4e-d740-4afc-8bee-aba80ea11c79",
   "metadata": {},
   "outputs": [
    {
     "data": {
      "text/plain": [
       "9.59"
      ]
     },
     "execution_count": 53,
     "metadata": {},
     "output_type": "execute_result"
    }
   ],
   "source": [
    "round(random.uniform(0,10),2)"
   ]
  },
  {
   "cell_type": "code",
   "execution_count": 52,
   "id": "f5f8e604-9af6-4f7b-ab19-9dd7ec76d6dd",
   "metadata": {},
   "outputs": [
    {
     "data": {
      "text/plain": [
       "7.765126063789676"
      ]
     },
     "execution_count": 52,
     "metadata": {},
     "output_type": "execute_result"
    }
   ],
   "source": [
    "random.uniform(0,10)"
   ]
  },
  {
   "cell_type": "code",
   "execution_count": 57,
   "id": "d8300a24-ba36-4d65-aabe-919584b24a56",
   "metadata": {},
   "outputs": [
    {
     "data": {
      "text/plain": [
       "b'=h\\xa2\\x19B\\xba'"
      ]
     },
     "execution_count": 57,
     "metadata": {},
     "output_type": "execute_result"
    }
   ],
   "source": [
    "random.randbytes(6)"
   ]
  },
  {
   "cell_type": "code",
   "execution_count": 58,
   "id": "b0229d3d-06ef-4219-b016-726bec993740",
   "metadata": {},
   "outputs": [
    {
     "data": {
      "text/plain": [
       "'two'"
      ]
     },
     "execution_count": 58,
     "metadata": {},
     "output_type": "execute_result"
    }
   ],
   "source": [
    "random.choice(num)"
   ]
  },
  {
   "cell_type": "code",
   "execution_count": null,
   "id": "5f696ad8-e48d-4401-8a82-5cbc296bd4f0",
   "metadata": {},
   "outputs": [],
   "source": []
  }
 ],
 "metadata": {
  "kernelspec": {
   "display_name": "Python 3 (ipykernel)",
   "language": "python",
   "name": "python3"
  },
  "language_info": {
   "codemirror_mode": {
    "name": "ipython",
    "version": 3
   },
   "file_extension": ".py",
   "mimetype": "text/x-python",
   "name": "python",
   "nbconvert_exporter": "python",
   "pygments_lexer": "ipython3",
   "version": "3.12.4"
  }
 },
 "nbformat": 4,
 "nbformat_minor": 5
}
