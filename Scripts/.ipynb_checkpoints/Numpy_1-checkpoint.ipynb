{
 "cells": [
  {
   "cell_type": "code",
   "execution_count": 1,
   "id": "f5772253-d444-47da-b453-44a2a4af0854",
   "metadata": {},
   "outputs": [],
   "source": [
    "import numpy as np"
   ]
  },
  {
   "cell_type": "code",
   "execution_count": 2,
   "id": "f0877061-7107-4f39-a652-527a7736858a",
   "metadata": {},
   "outputs": [],
   "source": [
    "#add two list"
   ]
  },
  {
   "cell_type": "code",
   "execution_count": 6,
   "id": "2c15360c-c61e-46a7-8b65-d3a0ee1fbd9e",
   "metadata": {},
   "outputs": [],
   "source": [
    "L1 = [1,2,3]"
   ]
  },
  {
   "cell_type": "code",
   "execution_count": 7,
   "id": "99be8ca7-11c2-4ab6-bbef-0102a954b46c",
   "metadata": {},
   "outputs": [],
   "source": [
    "L2 = [4,5,6]"
   ]
  },
  {
   "cell_type": "code",
   "execution_count": 8,
   "id": "b767d85c-6d9f-4e0b-bfd0-4c24e62e5cf4",
   "metadata": {},
   "outputs": [
    {
     "name": "stdout",
     "output_type": "stream",
     "text": [
      "[1, 2, 3, 4, 5, 6]\n"
     ]
    }
   ],
   "source": [
    "print( L1 + L2)"
   ]
  },
  {
   "cell_type": "code",
   "execution_count": 9,
   "id": "079d0d92-8fe2-453e-a37a-c12109099d87",
   "metadata": {},
   "outputs": [],
   "source": [
    "#numpy can add two set as an array"
   ]
  },
  {
   "cell_type": "code",
   "execution_count": 10,
   "id": "07a10ddf-a8d6-4001-aaf5-a85c8940b64e",
   "metadata": {},
   "outputs": [],
   "source": [
    "A1 = np.array([1,2,3])"
   ]
  },
  {
   "cell_type": "code",
   "execution_count": 11,
   "id": "a6d914f1-8297-481d-9429-4d7aaf2f5a4d",
   "metadata": {},
   "outputs": [],
   "source": [
    "A2 = np.array([4,5,6])"
   ]
  },
  {
   "cell_type": "code",
   "execution_count": 12,
   "id": "0c667028-2162-4913-8ba3-bfccafb07316",
   "metadata": {},
   "outputs": [
    {
     "name": "stdout",
     "output_type": "stream",
     "text": [
      "[5 7 9]\n"
     ]
    }
   ],
   "source": [
    "print(A1+A2)"
   ]
  },
  {
   "cell_type": "code",
   "execution_count": null,
   "id": "afcdfcd1-8688-4a0a-a070-f09f5e024f0d",
   "metadata": {},
   "outputs": [],
   "source": []
  },
  {
   "cell_type": "code",
   "execution_count": null,
   "id": "b4f76371-137b-43df-8089-1fa0beb41911",
   "metadata": {},
   "outputs": [],
   "source": []
  }
 ],
 "metadata": {
  "kernelspec": {
   "display_name": "Python 3 (ipykernel)",
   "language": "python",
   "name": "python3"
  },
  "language_info": {
   "codemirror_mode": {
    "name": "ipython",
    "version": 3
   },
   "file_extension": ".py",
   "mimetype": "text/x-python",
   "name": "python",
   "nbconvert_exporter": "python",
   "pygments_lexer": "ipython3",
   "version": "3.12.4"
  }
 },
 "nbformat": 4,
 "nbformat_minor": 5
}
